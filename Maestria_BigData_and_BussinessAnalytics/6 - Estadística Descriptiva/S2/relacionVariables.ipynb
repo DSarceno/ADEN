{
 "cells": [
  {
   "cell_type": "markdown",
   "metadata": {},
   "source": [
    "# Relacion entre Variables\n",
    "### Actividad de Transferencia"
   ]
  },
  {
   "cell_type": "code",
   "execution_count": 1,
   "metadata": {},
   "outputs": [],
   "source": [
    "# librerías de análisis\n",
    "import pandas as pd\n",
    "import numpy as np\n",
    "\n",
    "\n",
    "# graficación\n",
    "import matplotlib.pyplot as plt\n",
    "\n",
    "\n",
    "# estadística y ML\n",
    "from scipy.stats import chi2, chi2_contingency\n",
    "from sklearn.linear_model import LinearRegression\n",
    "\n",
    "\n",
    "# quitamos las warnings\n",
    "import warnings\n",
    "warnings.filterwarnings('ignore')"
   ]
  },
  {
   "cell_type": "markdown",
   "metadata": {},
   "source": [
    "#### Parte 1: Variables"
   ]
  },
  {
   "cell_type": "code",
   "execution_count": 2,
   "metadata": {},
   "outputs": [],
   "source": [
    "# Variables cualitativas:\n",
    "# a) Modo de pago: ['Efectivo', 'Tarjeta', 'Transferencia']\n",
    "# b) Satisfacción del cliente: ['Alta', 'Media', 'Baja']\n",
    "# c) Tipo de cliente: ['Frecuente', 'Ocasional']\n",
    "# d) Región de compra: ['Norte', 'Sur', 'Centro']\n",
    "# e) Canal de compra: ['Online', 'Presencial']\n",
    "\n",
    "# Variables cuantitativas:\n",
    "# a) Frecuencia de compras (número de compras por mes)\n",
    "# b) Antigüedad del cliente (en meses)\n",
    "# c) Volumen de ventas (en dólares)\n",
    "# d) Descuento promedio otorgado (en porcentaje)\n",
    "# e) Calificación promedio del cliente (en una escala del 1 al 10)"
   ]
  },
  {
   "cell_type": "markdown",
   "metadata": {},
   "source": [
    "#### Parte 2: Análisis de Contingencia"
   ]
  },
  {
   "cell_type": "code",
   "execution_count": 3,
   "metadata": {},
   "outputs": [],
   "source": [
    "# creamos el dataframe simulado para el análisis\n",
    "np.random.seed(27)\n",
    "data = {\n",
    "    'CanalCompra': np.random.choice(['Online', 'Presencial'], size=100),\n",
    "    'SatisfaccionCliente': np.random.choice(['Alta', 'Media', 'Baja'], size=100)\n",
    "}\n",
    "df = pd.DataFrame(data)"
   ]
  },
  {
   "cell_type": "code",
   "execution_count": 4,
   "metadata": {},
   "outputs": [
    {
     "data": {
      "text/html": [
       "<div>\n",
       "<style scoped>\n",
       "    .dataframe tbody tr th:only-of-type {\n",
       "        vertical-align: middle;\n",
       "    }\n",
       "\n",
       "    .dataframe tbody tr th {\n",
       "        vertical-align: top;\n",
       "    }\n",
       "\n",
       "    .dataframe thead th {\n",
       "        text-align: right;\n",
       "    }\n",
       "</style>\n",
       "<table border=\"1\" class=\"dataframe\">\n",
       "  <thead>\n",
       "    <tr style=\"text-align: right;\">\n",
       "      <th>SatisfaccionCliente</th>\n",
       "      <th>Alta</th>\n",
       "      <th>Baja</th>\n",
       "      <th>Media</th>\n",
       "    </tr>\n",
       "    <tr>\n",
       "      <th>CanalCompra</th>\n",
       "      <th></th>\n",
       "      <th></th>\n",
       "      <th></th>\n",
       "    </tr>\n",
       "  </thead>\n",
       "  <tbody>\n",
       "    <tr>\n",
       "      <th>Online</th>\n",
       "      <td>17</td>\n",
       "      <td>16</td>\n",
       "      <td>11</td>\n",
       "    </tr>\n",
       "    <tr>\n",
       "      <th>Presencial</th>\n",
       "      <td>20</td>\n",
       "      <td>18</td>\n",
       "      <td>18</td>\n",
       "    </tr>\n",
       "  </tbody>\n",
       "</table>\n",
       "</div>"
      ],
      "text/plain": [
       "SatisfaccionCliente  Alta  Baja  Media\n",
       "CanalCompra                           \n",
       "Online                 17    16     11\n",
       "Presencial             20    18     18"
      ]
     },
     "execution_count": 4,
     "metadata": {},
     "output_type": "execute_result"
    }
   ],
   "source": [
    "# creamos la tabla de contingencia\n",
    "tabla_contingencia = pd.crosstab(df['CanalCompra'], df['SatisfaccionCliente'])\n",
    "\n",
    "# la mostramos\n",
    "tabla_contingencia"
   ]
  },
  {
   "cell_type": "code",
   "execution_count": 5,
   "metadata": {},
   "outputs": [],
   "source": [
    "# calculamos el valor estadístico de Pearson\n",
    "chi2_stat, p, dof, expected = chi2_contingency(tabla_contingencia)\n",
    "\n",
    "# valor crítico para la significancia del 5%\n",
    "alpha = 0.05\n",
    "valor_critico = chi2.ppf(1 - alpha, dof)"
   ]
  },
  {
   "cell_type": "code",
   "execution_count": 6,
   "metadata": {},
   "outputs": [
    {
     "name": "stdout",
     "output_type": "stream",
     "text": [
      "Estadístico de Pearson (X2): 0.6194657817375869\n",
      "Valor crítico para significancia del 5%: 5.991464547107979\n",
      "Grados de libertad: 2\n",
      "p-valor: 0.7336428927706078\n"
     ]
    }
   ],
   "source": [
    "# Resultados\n",
    "print(\"Estadístico de Pearson (X2):\", chi2_stat)\n",
    "print(\"Valor crítico para significancia del 5%:\", valor_critico)\n",
    "print(\"Grados de libertad:\", dof)\n",
    "print(\"p-valor:\", p)"
   ]
  },
  {
   "cell_type": "code",
   "execution_count": 7,
   "metadata": {},
   "outputs": [
    {
     "name": "stdout",
     "output_type": "stream",
     "text": [
      "Conclusión: Las variables son independientes (no rechazamos H0).\n"
     ]
    }
   ],
   "source": [
    "if chi2_stat > valor_critico:\n",
    "    print(\"Conclusión: Las variables son dependientes (rechazamos H0).\")\n",
    "else:\n",
    "    print(\"Conclusión: Las variables son independientes (no rechazamos H0).\")"
   ]
  },
  {
   "cell_type": "code",
   "execution_count": 8,
   "metadata": {},
   "outputs": [
    {
     "name": "stdout",
     "output_type": "stream",
     "text": [
      "Si el estadístico de Pearson (X2) fuera 7.4, el p-valor sería: 0.024723526470339374\n",
      "Si el valor p fuera 0.086, el estadístico de Pearson (X2) sería: 4.906815965457259\n"
     ]
    }
   ],
   "source": [
    "## Respondiendo a las preguntas e y f\n",
    "\n",
    "# e) si el estadístico de Pearson (X2) fuera 7.4, calcular el p-valor\n",
    "chi2_stat_e = 7.4\n",
    "p_valor_e = 1 - chi2.cdf(chi2_stat_e, dof)      # Función de distribución acumulada chi-cuadrado\n",
    "print(f\"Si el estadístico de Pearson (X2) fuera {chi2_stat_e}, el p-valor sería: {p_valor_e}\")\n",
    "\n",
    "\n",
    "# f) si el valor p fuera 0.086, calcular el estadístico de Pearson (X2)\n",
    "p_valor_f = 0.086\n",
    "chi2_stat_f = chi2.ppf(1 - p_valor_f, dof)\n",
    "print(f\"Si el valor p fuera {p_valor_f}, el estadístico de Pearson (X2) sería: {chi2_stat_f}\")"
   ]
  },
  {
   "cell_type": "markdown",
   "metadata": {},
   "source": [
    "#### Parte 3: Análisis de Regresión Lineal"
   ]
  },
  {
   "cell_type": "markdown",
   "metadata": {},
   "source": [
    "Para que el conjunto de datos mantenga su caracter aleatorio, pero siga una tendencia razonablemente lineal. Se creó de esta forma; adempas, asi se podrían comparar los resultados obtenidos con el modelo con algo real."
   ]
  },
  {
   "cell_type": "code",
   "execution_count": 9,
   "metadata": {},
   "outputs": [],
   "source": [
    "# creamos el dataframe simulado para la regresión\n",
    "np.random.seed(27)\n",
    "\n",
    "# parametros de al recta\n",
    "m = 30      # pendiente\n",
    "b = 100     # intersección\n",
    "\n",
    "# variable independiente\n",
    "frecuenciaCompras = np.random.randint(1,30, size=100)\n",
    "\n",
    "# datos correspondientes a la variable dependiente\n",
    "volumenVentas = m*frecuenciaCompras + b\n",
    "\n",
    "# agregamos ruido aleatorio para que los puntos se separen de la recta\n",
    "ruido = np.random.normal(0, 100, size=100)\n",
    "volumenVentas = volumenVentas + ruido\n",
    "\n",
    "# agregamos la data al dataframe\n",
    "regressionData = {\n",
    "    'FrecuenciaCompras': frecuenciaCompras,\n",
    "    'VolumenVentas': volumenVentas\n",
    "}\n",
    "regdf = pd.DataFrame(regressionData)"
   ]
  },
  {
   "cell_type": "code",
   "execution_count": 10,
   "metadata": {},
   "outputs": [],
   "source": [
    "# definir variables explicativa y explicada\n",
    "X = regdf[['FrecuenciaCompras']]\n",
    "y = regdf['VolumenVentas']"
   ]
  },
  {
   "cell_type": "code",
   "execution_count": 11,
   "metadata": {},
   "outputs": [
    {
     "data": {
      "text/html": [
       "<style>#sk-container-id-1 {color: black;}#sk-container-id-1 pre{padding: 0;}#sk-container-id-1 div.sk-toggleable {background-color: white;}#sk-container-id-1 label.sk-toggleable__label {cursor: pointer;display: block;width: 100%;margin-bottom: 0;padding: 0.3em;box-sizing: border-box;text-align: center;}#sk-container-id-1 label.sk-toggleable__label-arrow:before {content: \"▸\";float: left;margin-right: 0.25em;color: #696969;}#sk-container-id-1 label.sk-toggleable__label-arrow:hover:before {color: black;}#sk-container-id-1 div.sk-estimator:hover label.sk-toggleable__label-arrow:before {color: black;}#sk-container-id-1 div.sk-toggleable__content {max-height: 0;max-width: 0;overflow: hidden;text-align: left;background-color: #f0f8ff;}#sk-container-id-1 div.sk-toggleable__content pre {margin: 0.2em;color: black;border-radius: 0.25em;background-color: #f0f8ff;}#sk-container-id-1 input.sk-toggleable__control:checked~div.sk-toggleable__content {max-height: 200px;max-width: 100%;overflow: auto;}#sk-container-id-1 input.sk-toggleable__control:checked~label.sk-toggleable__label-arrow:before {content: \"▾\";}#sk-container-id-1 div.sk-estimator input.sk-toggleable__control:checked~label.sk-toggleable__label {background-color: #d4ebff;}#sk-container-id-1 div.sk-label input.sk-toggleable__control:checked~label.sk-toggleable__label {background-color: #d4ebff;}#sk-container-id-1 input.sk-hidden--visually {border: 0;clip: rect(1px 1px 1px 1px);clip: rect(1px, 1px, 1px, 1px);height: 1px;margin: -1px;overflow: hidden;padding: 0;position: absolute;width: 1px;}#sk-container-id-1 div.sk-estimator {font-family: monospace;background-color: #f0f8ff;border: 1px dotted black;border-radius: 0.25em;box-sizing: border-box;margin-bottom: 0.5em;}#sk-container-id-1 div.sk-estimator:hover {background-color: #d4ebff;}#sk-container-id-1 div.sk-parallel-item::after {content: \"\";width: 100%;border-bottom: 1px solid gray;flex-grow: 1;}#sk-container-id-1 div.sk-label:hover label.sk-toggleable__label {background-color: #d4ebff;}#sk-container-id-1 div.sk-serial::before {content: \"\";position: absolute;border-left: 1px solid gray;box-sizing: border-box;top: 0;bottom: 0;left: 50%;z-index: 0;}#sk-container-id-1 div.sk-serial {display: flex;flex-direction: column;align-items: center;background-color: white;padding-right: 0.2em;padding-left: 0.2em;position: relative;}#sk-container-id-1 div.sk-item {position: relative;z-index: 1;}#sk-container-id-1 div.sk-parallel {display: flex;align-items: stretch;justify-content: center;background-color: white;position: relative;}#sk-container-id-1 div.sk-item::before, #sk-container-id-1 div.sk-parallel-item::before {content: \"\";position: absolute;border-left: 1px solid gray;box-sizing: border-box;top: 0;bottom: 0;left: 50%;z-index: -1;}#sk-container-id-1 div.sk-parallel-item {display: flex;flex-direction: column;z-index: 1;position: relative;background-color: white;}#sk-container-id-1 div.sk-parallel-item:first-child::after {align-self: flex-end;width: 50%;}#sk-container-id-1 div.sk-parallel-item:last-child::after {align-self: flex-start;width: 50%;}#sk-container-id-1 div.sk-parallel-item:only-child::after {width: 0;}#sk-container-id-1 div.sk-dashed-wrapped {border: 1px dashed gray;margin: 0 0.4em 0.5em 0.4em;box-sizing: border-box;padding-bottom: 0.4em;background-color: white;}#sk-container-id-1 div.sk-label label {font-family: monospace;font-weight: bold;display: inline-block;line-height: 1.2em;}#sk-container-id-1 div.sk-label-container {text-align: center;}#sk-container-id-1 div.sk-container {/* jupyter's `normalize.less` sets `[hidden] { display: none; }` but bootstrap.min.css set `[hidden] { display: none !important; }` so we also need the `!important` here to be able to override the default hidden behavior on the sphinx rendered scikit-learn.org. See: https://github.com/scikit-learn/scikit-learn/issues/21755 */display: inline-block !important;position: relative;}#sk-container-id-1 div.sk-text-repr-fallback {display: none;}</style><div id=\"sk-container-id-1\" class=\"sk-top-container\"><div class=\"sk-text-repr-fallback\"><pre>LinearRegression()</pre><b>In a Jupyter environment, please rerun this cell to show the HTML representation or trust the notebook. <br />On GitHub, the HTML representation is unable to render, please try loading this page with nbviewer.org.</b></div><div class=\"sk-container\" hidden><div class=\"sk-item\"><div class=\"sk-estimator sk-toggleable\"><input class=\"sk-toggleable__control sk-hidden--visually\" id=\"sk-estimator-id-1\" type=\"checkbox\" checked><label for=\"sk-estimator-id-1\" class=\"sk-toggleable__label sk-toggleable__label-arrow\">LinearRegression</label><div class=\"sk-toggleable__content\"><pre>LinearRegression()</pre></div></div></div></div></div>"
      ],
      "text/plain": [
       "LinearRegression()"
      ]
     },
     "execution_count": 11,
     "metadata": {},
     "output_type": "execute_result"
    }
   ],
   "source": [
    "# creamos y ajustamos el modelo de regresión lineal\n",
    "model = LinearRegression()\n",
    "model.fit(X, y)"
   ]
  },
  {
   "cell_type": "code",
   "execution_count": 12,
   "metadata": {},
   "outputs": [],
   "source": [
    "# coeficiente de determinación\n",
    "r_squared = model.score(X,y)\n",
    "\n",
    "# covarianza\n",
    "covarianza = np.cov(regdf['FrecuenciaCompras'], regdf['VolumenVentas'])[0, 1]\n",
    "\n",
    "# coeficientes de la recta\n",
    "alfa = model.intercept_\n",
    "beta = model.coef_[0]"
   ]
  },
  {
   "cell_type": "code",
   "execution_count": 13,
   "metadata": {},
   "outputs": [
    {
     "name": "stdout",
     "output_type": "stream",
     "text": [
      "Coeficiente de determinación (R^2): 0.8797886762130954\n",
      "Covarianza: 2004.6095733949855\n",
      "Alfa (intercepto): 127.66491146409845\n",
      "Beta (pendiente): 29.017310076280932\n"
     ]
    }
   ],
   "source": [
    "# resultados\n",
    "print(\"Coeficiente de determinación (R^2):\", r_squared)\n",
    "print(\"Covarianza:\", covarianza)\n",
    "print(\"Alfa (intercepto):\", alfa)\n",
    "print(\"Beta (pendiente):\", beta)\n"
   ]
  },
  {
   "cell_type": "code",
   "execution_count": 14,
   "metadata": {},
   "outputs": [
    {
     "data": {
      "image/png": "[encoded data removed]",
      "text/plain": [
       "<Figure size 640x480 with 1 Axes>"
      ]
     },
     "metadata": {},
     "output_type": "display_data"
    }
   ],
   "source": [
    "# gráfica de regresión\n",
    "plt.scatter(X, y, color='blue', label='Datos')\n",
    "plt.plot(X, model.predict(X), color='red', label='Línea de regresión')\n",
    "plt.xlabel('Frecuencia de Compras')\n",
    "plt.ylabel('Volumen de Ventas')\n",
    "plt.title('Regresión Lineal: Frecuencia de Compras vs Volumen de Ventas')\n",
    "plt.legend()\n",
    "plt.show()"
   ]
  },
  {
   "cell_type": "code",
   "execution_count": 15,
   "metadata": {},
   "outputs": [
    {
     "name": "stdout",
     "output_type": "stream",
     "text": [
      "El modelo lineal es razonablemente bueno para explicar la relación.\n"
     ]
    }
   ],
   "source": [
    "# Evaluación del modelo\n",
    "if r_squared > 0.5:\n",
    "    print(\"El modelo lineal es razonablemente bueno para explicar la relación.\")\n",
    "else:\n",
    "    print(\"El modelo lineal no es suficientemente bueno para explicar la relación.\")"
   ]
  },
  {
   "cell_type": "code",
   "execution_count": null,
   "metadata": {},
   "outputs": [],
   "source": []
  }
 ],
 "metadata": {
  "kernelspec": {
   "display_name": "Python 3",
   "language": "python",
   "name": "python3"
  },
  "language_info": {
   "codemirror_mode": {
    "name": "ipython",
    "version": 3
   },
   "file_extension": ".py",
   "mimetype": "text/x-python",
   "name": "python",
   "nbconvert_exporter": "python",
   "pygments_lexer": "ipython3",
   "version": "3.8.10"
  }
 },
 "nbformat": 4,
 "nbformat_minor": 2
}
