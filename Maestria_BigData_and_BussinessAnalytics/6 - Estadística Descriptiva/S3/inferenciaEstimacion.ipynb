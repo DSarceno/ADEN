{
 "cells": [
  {
   "cell_type": "markdown",
   "metadata": {},
   "source": [
    "# INFERECIA Y ESTIMACIÓN\n",
    "### Actividad de Trasnferencia"
   ]
  },
  {
   "cell_type": "markdown",
   "metadata": {},
   "source": [
    "Supongamos que la variable cuantitativa generada representa el tiempo (en minutos) necesario para completar un proceso productivo en una línea de ensamblaje."
   ]
  },
  {
   "cell_type": "code",
   "execution_count": 9,
   "metadata": {},
   "outputs": [],
   "source": [
    "# librerías de análisis\n",
    "import pandas as pd\n",
    "import numpy as np\n",
    "\n",
    "\n",
    "# graficación\n",
    "import matplotlib.pyplot as plt\n",
    "\n",
    "\n",
    "# estadística y ML\n",
    "import scipy.stats as stats\n",
    "from sklearn.linear_model import LinearRegression\n",
    "\n",
    "\n",
    "# quitamos las warnings\n",
    "import warnings\n",
    "warnings.filterwarnings('ignore')"
   ]
  },
  {
   "cell_type": "code",
   "execution_count": 10,
   "metadata": {},
   "outputs": [],
   "source": [
    "# generación de datos para una variable cuantiativa\n",
    "np.random.seed(27)\n",
    "data = np.random.normal(loc=50, scale=5, size=80)"
   ]
  },
  {
   "cell_type": "markdown",
   "metadata": {},
   "source": [
    "#### Primera Parte"
   ]
  },
  {
   "cell_type": "code",
   "execution_count": 11,
   "metadata": {},
   "outputs": [],
   "source": [
    "# a) media muestral\n",
    "media_muestral = np.mean(data)\n",
    "\n",
    "# b) margen de error (nivel de confianza del 95%)\n",
    "sem = stats.sem(data)\n",
    "t_crit = stats.t.ppf(0.975, df=len(data) - 1)\n",
    "margen_error = t_crit * sem\n",
    "\n",
    "# c) intervalo de confianza para la media\n",
    "intervalo_confianza = (media_muestral - margen_error, media_muestral + margen_error)"
   ]
  },
  {
   "cell_type": "code",
   "execution_count": 12,
   "metadata": {},
   "outputs": [
    {
     "name": "stdout",
     "output_type": "stream",
     "text": [
      "Media Muestral: 50.70548544969677\n",
      "Margen de Error: 1.0068084743817158\n",
      "Intervalo de Confianza: (49.69867697531506, 51.71229392407849)\n"
     ]
    }
   ],
   "source": [
    "print(f\"Media Muestral: {media_muestral}\")\n",
    "print(f\"Margen de Error: {margen_error}\")\n",
    "print(f\"Intervalo de Confianza: {intervalo_confianza}\")"
   ]
  },
  {
   "cell_type": "markdown",
   "metadata": {},
   "source": [
    "#### Segunda Parte"
   ]
  },
  {
   "cell_type": "code",
   "execution_count": 16,
   "metadata": {},
   "outputs": [],
   "source": [
    "# variable dicotómica\n",
    "# determinamos el tamaño de la muestra para un margen de error del 8.5%\n",
    "p = 0.1 # suposición inicial (0.1 da una menor variabilidad comparada con 0.5)\n",
    "error_maximo = 0.085\n",
    "z_crit = stats.norm.ppf(0.95)\n",
    "tamano_muestral = int(np.ceil( (z_crit**2 * p * (1-p)) / (error_maximo**2) ))\n",
    "\n",
    "# recolectar muestra dicotómica\n",
    "np.random.seed(27)\n",
    "dicotomica = np.random.choice([0,1], size=tamano_muestral, p=[0.9,0.1])\n",
    "proporcion_muestral = np.mean(dicotomica)\n",
    "\n",
    "# Realizar test de hipótesis\n",
    "H0_proporcion = proporcion_muestral / 2\n",
    "z_test = (proporcion_muestral - H0_proporcion) / np.sqrt((H0_proporcion * (1 - H0_proporcion)) / tamano_muestral)\n",
    "z_crit_test = stats.norm.ppf(0.975)\n",
    "p_valor_test = 2 * (1 - stats.norm.cdf(abs(z_test)))\n",
    "\n",
    "# responder pregutnas sobre hipótesis\n",
    "aceptacion_rechazo = 'rechazar' if abs(z_test) > z_crit_test else 'aceptar'\n",
    "creencia_p_valor = (\n",
    "    'mantener' if p_valor_test > 0.05 else 'rechazar'\n",
    ")"
   ]
  },
  {
   "cell_type": "code",
   "execution_count": 17,
   "metadata": {},
   "outputs": [
    {
     "name": "stdout",
     "output_type": "stream",
     "text": [
      "Tamaño Muestral: 34\n",
      "Proporción Muestral: 0.058823529411764705\n",
      "Valor de Z del Test: 1.0150384378451045\n",
      "Z Crítico: 1.959963984540054\n",
      "P-Valor: 0.3100875052000145\n",
      "Aceptación/Rechazo H0: aceptar\n",
      "Creencia Basada en P-Valor: mantener\n"
     ]
    }
   ],
   "source": [
    "print(f\"Tamaño Muestral: {tamano_muestral}\")\n",
    "print(f\"Proporción Muestral: {proporcion_muestral}\")\n",
    "print(f\"Valor de Z del Test: {z_test}\")\n",
    "print(f\"Z Crítico: {z_crit_test}\")\n",
    "print(f\"P-Valor: {p_valor_test}\")\n",
    "print(f\"Aceptación/Rechazo H0: {aceptacion_rechazo}\")\n",
    "print(f\"Creencia Basada en P-Valor: {creencia_p_valor}\")"
   ]
  },
  {
   "cell_type": "code",
   "execution_count": null,
   "metadata": {},
   "outputs": [],
   "source": []
  }
 ],
 "metadata": {
  "kernelspec": {
   "display_name": "Python 3",
   "language": "python",
   "name": "python3"
  },
  "language_info": {
   "codemirror_mode": {
    "name": "ipython",
    "version": 3
   },
   "file_extension": ".py",
   "mimetype": "text/x-python",
   "name": "python",
   "nbconvert_exporter": "python",
   "pygments_lexer": "ipython3",
   "version": "3.8.10"
  }
 },
 "nbformat": 4,
 "nbformat_minor": 2
}
