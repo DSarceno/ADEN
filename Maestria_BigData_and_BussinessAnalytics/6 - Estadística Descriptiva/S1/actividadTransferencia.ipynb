{
 "cells": [
  {
   "cell_type": "markdown",
   "metadata": {},
   "source": [
    "# Estadísica Descriptiva\n",
    "### Actividad de transferencia"
   ]
  },
  {
   "cell_type": "code",
   "execution_count": 1,
   "metadata": {},
   "outputs": [],
   "source": [
    "# librerías de analisis\n",
    "import pandas as pd\n",
    "import numpy as np"
   ]
  },
  {
   "cell_type": "markdown",
   "metadata": {},
   "source": [
    "#### Conjunto de datos\n",
    "Dado que no cuento con conjuntos de datos preconstruidos y buscar uno en plataformas como ***Kaggle*** o ***HuggingFace*** sería más perder el tiempo que apoyo. Así, que generé un conjunto de datos aleatorios en base a una semilla definida. Se generaron más de 80 observaciones."
   ]
  },
  {
   "cell_type": "code",
   "execution_count": 22,
   "metadata": {},
   "outputs": [
    {
     "name": "stdout",
     "output_type": "stream",
     "text": [
      "Probabilidades para los diferntes lugares A: 0.43 y B: 0.57\n",
      "   importe_compra lugar_compra\n",
      "0            4012            B\n",
      "1            4948            B\n",
      "2            7292            A\n",
      "3            4337            A\n",
      "4            1126            A\n"
     ]
    }
   ],
   "source": [
    "# configuramos la semilla\n",
    "np.random.seed(27)\n",
    "\n",
    "# Generamos los datos\n",
    "n = 120\n",
    "probA = round(np.random.uniform(0,1), 2)\n",
    "importe_compra = np.random.randint(100,10000, size=n)\n",
    "lugar_compra = np.random.choice(['A', 'B'], size=n, p=[probA, 1 - probA])\n",
    "print(f'Probabilidades para los diferntes lugares A: {probA} y B: {round(1 - probA, 2)}')\n",
    "\n",
    "\n",
    "# creamos el dataset\n",
    "compras = pd.DataFrame({\n",
    "    'importe_compra': importe_compra,\n",
    "    'lugar_compra': lugar_compra\n",
    "})\n",
    "\n",
    "# vemos la cabecera de los datos\n",
    "print(compras.head(5))\n",
    "\n",
    "# Exportamos en csv\n",
    "compras.to_csv('datosActividadTransferencia.csv', sep=',', index=False)"
   ]
  },
  {
   "cell_type": "code",
   "execution_count": 8,
   "metadata": {},
   "outputs": [],
   "source": [
    "# calculamos los indicadores del inciso 1.\n",
    "importe = compras['importe_compra']\n",
    "media = importe.mean()\n",
    "mediana = importe.median()\n",
    "desvEst = importe.std()\n",
    "amplitud = importe.quantile(0.75) - importe.quantile(0.25)\n",
    "asimetria = importe.skew()"
   ]
  },
  {
   "cell_type": "code",
   "execution_count": 13,
   "metadata": {},
   "outputs": [
    {
     "name": "stdout",
     "output_type": "stream",
     "text": [
      "=== Descripción de los Datos ===\n",
      "Media       : 5451.68\n",
      "Mediana     : 5615.00\n",
      "Desv. Est.  : 2862.06\n",
      "Amplitud (IQR): 4954.00\n",
      "Asimetría   : -0.11\n"
     ]
    }
   ],
   "source": [
    "print(\"=== Descripción de los Datos ===\")\n",
    "print(f\"Media       : {media:.2f}\")\n",
    "print(f\"Mediana     : {mediana:.2f}\")\n",
    "print(f\"Desv. Est.  : {desvEst:.2f}\")\n",
    "print(f\"Amplitud (IQR): {amplitud:.2f}\")\n",
    "print(f\"Asimetría   : {asimetria:.2f}\")"
   ]
  },
  {
   "cell_type": "markdown",
   "metadata": {},
   "source": [
    "##### Forma alternativa de ver una descripcion de la data."
   ]
  },
  {
   "cell_type": "code",
   "execution_count": 10,
   "metadata": {},
   "outputs": [
    {
     "data": {
      "text/html": [
       "<div>\n",
       "<style scoped>\n",
       "    .dataframe tbody tr th:only-of-type {\n",
       "        vertical-align: middle;\n",
       "    }\n",
       "\n",
       "    .dataframe tbody tr th {\n",
       "        vertical-align: top;\n",
       "    }\n",
       "\n",
       "    .dataframe thead th {\n",
       "        text-align: right;\n",
       "    }\n",
       "</style>\n",
       "<table border=\"1\" class=\"dataframe\">\n",
       "  <thead>\n",
       "    <tr style=\"text-align: right;\">\n",
       "      <th></th>\n",
       "      <th>importe_compra</th>\n",
       "    </tr>\n",
       "  </thead>\n",
       "  <tbody>\n",
       "    <tr>\n",
       "      <th>count</th>\n",
       "      <td>120.000000</td>\n",
       "    </tr>\n",
       "    <tr>\n",
       "      <th>mean</th>\n",
       "      <td>5451.683333</td>\n",
       "    </tr>\n",
       "    <tr>\n",
       "      <th>std</th>\n",
       "      <td>2862.064675</td>\n",
       "    </tr>\n",
       "    <tr>\n",
       "      <th>min</th>\n",
       "      <td>289.000000</td>\n",
       "    </tr>\n",
       "    <tr>\n",
       "      <th>25%</th>\n",
       "      <td>3014.000000</td>\n",
       "    </tr>\n",
       "    <tr>\n",
       "      <th>50%</th>\n",
       "      <td>5615.000000</td>\n",
       "    </tr>\n",
       "    <tr>\n",
       "      <th>75%</th>\n",
       "      <td>7968.000000</td>\n",
       "    </tr>\n",
       "    <tr>\n",
       "      <th>max</th>\n",
       "      <td>9969.000000</td>\n",
       "    </tr>\n",
       "  </tbody>\n",
       "</table>\n",
       "</div>"
      ],
      "text/plain": [
       "       importe_compra\n",
       "count      120.000000\n",
       "mean      5451.683333\n",
       "std       2862.064675\n",
       "min        289.000000\n",
       "25%       3014.000000\n",
       "50%       5615.000000\n",
       "75%       7968.000000\n",
       "max       9969.000000"
      ]
     },
     "execution_count": 10,
     "metadata": {},
     "output_type": "execute_result"
    }
   ],
   "source": [
    "compras.describe()"
   ]
  },
  {
   "cell_type": "markdown",
   "metadata": {},
   "source": [
    "### Segmentación de la variable categórica"
   ]
  },
  {
   "cell_type": "code",
   "execution_count": 11,
   "metadata": {},
   "outputs": [],
   "source": [
    "# para hacerlo mas facil, segmentamos desde antes\n",
    "comprasA = compras[compras['lugar_compra'] == 'A']\n",
    "comprasB = compras[compras['lugar_compra'] == 'B']"
   ]
  },
  {
   "cell_type": "code",
   "execution_count": 14,
   "metadata": {},
   "outputs": [],
   "source": [
    "# medias\n",
    "mediaA = comprasA['importe_compra'].mean()\n",
    "mediaB = comprasB['importe_compra'].mean()\n",
    "\n",
    "# desviación\n",
    "desviacionA = comprasA['importe_compra'].std()\n",
    "desviacionB = comprasB['importe_compra'].std()\n",
    "\n",
    "# Asimetría\n",
    "asimetriaA = comprasA['importe_compra'].skew()\n",
    "asimetriaB = comprasB['importe_compra'].skew()"
   ]
  },
  {
   "cell_type": "code",
   "execution_count": 20,
   "metadata": {},
   "outputs": [
    {
     "name": "stdout",
     "output_type": "stream",
     "text": [
      "=========== Descripción por Lugar ===========\n",
      "               Compras A      Compras B      \n",
      "---------------------------------------------\n",
      "Media          5368.33     5509.21\n",
      "Desv. Est.     2709.58     2980.40\n",
      "Asimetría      -0.14     -0.11\n"
     ]
    }
   ],
   "source": [
    "print(\"=========== Descripción por Lugar ===========\")\n",
    "print(f\"{'':<15}{'Compras A':<15}{'Compras B':<15}\")\n",
    "print(\"-\" * 45)\n",
    "print(f\"{'Media':<15}{mediaA:.2f}{'':<5}{mediaB:.2f}\")\n",
    "print(f\"{'Desv. Est.':<15}{desviacionA:.2f}{'':<5}{desviacionB:.2f}\")\n",
    "print(f\"{'Asimetría':<15}{asimetriaA:.2f}{'':<5}{asimetriaB:.2f}\")"
   ]
  },
  {
   "cell_type": "code",
   "execution_count": null,
   "metadata": {},
   "outputs": [],
   "source": []
  }
 ],
 "metadata": {
  "kernelspec": {
   "display_name": "Python 3",
   "language": "python",
   "name": "python3"
  },
  "language_info": {
   "codemirror_mode": {
    "name": "ipython",
    "version": 3
   },
   "file_extension": ".py",
   "mimetype": "text/x-python",
   "name": "python",
   "nbconvert_exporter": "python",
   "pygments_lexer": "ipython3",
   "version": "3.8.10"
  }
 },
 "nbformat": 4,
 "nbformat_minor": 2
}
