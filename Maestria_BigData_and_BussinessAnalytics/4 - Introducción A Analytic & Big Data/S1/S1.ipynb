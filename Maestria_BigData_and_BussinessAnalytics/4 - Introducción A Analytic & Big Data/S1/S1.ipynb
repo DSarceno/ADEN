{
 "cells": [
  {
   "cell_type": "code",
   "execution_count": 69,
   "metadata": {},
   "outputs": [],
   "source": [
    "import pandas as pd\n",
    "import numpy as np\n",
    "import re"
   ]
  },
  {
   "cell_type": "code",
   "execution_count": 70,
   "metadata": {},
   "outputs": [],
   "source": [
    "def estandarizar_texto(texto : str) -> str:\n",
    "    \"\"\"\n",
    "    Dado un texto lo transforma en texto plano (sin tildes, espacios extra, carácteres especiales, y comas.).\n",
    "\n",
    "    :param texto: Nombre del script que se está ejecutando.\n",
    "    :type texto: str\n",
    "    :returns: El texto plano\n",
    "    :rtype: str\n",
    "    :example:\n",
    "\n",
    "    .. code-block:: python\n",
    "\n",
    "        text = estandarizar_texto('Nombre, del script que se está ejecutando')\n",
    "    \"\"\"\n",
    "    # funcion que vuelve cualquier texto en texto plano (sin tildes, comas, mayusculas, etc)\n",
    "\n",
    "    # Convertir todo el texto a minúsculas\n",
    "    texto = texto.lower()\n",
    "    \n",
    "    # Eliminar las , de buena forma\n",
    "    texto = texto.replace(',', ' ')\n",
    "\n",
    "    # Eliminar caracteres especiales excepto letras, números y espacios\n",
    "    texto = re.sub(r'[^\\w\\s]', '', texto)\n",
    "    \n",
    "    # Eliminar tildes\n",
    "    texto = re.sub(r'[áéíóú]', lambda x: 'aeiou'[('áéíóú'.index(x.group(0)))], texto)\n",
    "    \n",
    "    \n",
    "\n",
    "    # Eliminar espacios extras y espacios al inicio y al final\n",
    "    texto = re.sub(r'\\s+', ' ', texto).strip()\n",
    "    \n",
    "    return texto\n"
   ]
  },
  {
   "cell_type": "code",
   "execution_count": 71,
   "metadata": {},
   "outputs": [],
   "source": [
    "# leemos el excel\n",
    "df = pd.read_excel('s1AT.xlsx', engine='openpyxl')"
   ]
  },
  {
   "cell_type": "code",
   "execution_count": 72,
   "metadata": {},
   "outputs": [],
   "source": [
    "df.dropna(inplace=True)\n",
    "df[['DAY', 'MONTH', 'AMOUNT']] = df[['DAY', 'MONTH', 'AMOUNT']].astype('int64')\n",
    "df['COUNTRY'] = df['COUNTRY'].replace('Pto Rico', 'Puerto Rico')\n",
    "#df['PRODUCT'] = df['PRODUCT'].replace('Caja de carton pequeña', 'Caja de cartón pequeña')\n",
    "df['DISCOUNT'] = df['FINAL PRICE (USD)'] / (df['AMOUNT'] * df['PRICE']) - 1\n",
    "df[['CUSTOMER', 'COUNTRY', 'PRODUCT']] = df[['CUSTOMER', 'COUNTRY', 'PRODUCT']].applymap(estandarizar_texto)"
   ]
  },
  {
   "cell_type": "code",
   "execution_count": 73,
   "metadata": {},
   "outputs": [
    {
     "data": {
      "text/html": [
       "<div>\n",
       "<style scoped>\n",
       "    .dataframe tbody tr th:only-of-type {\n",
       "        vertical-align: middle;\n",
       "    }\n",
       "\n",
       "    .dataframe tbody tr th {\n",
       "        vertical-align: top;\n",
       "    }\n",
       "\n",
       "    .dataframe thead th {\n",
       "        text-align: right;\n",
       "    }\n",
       "</style>\n",
       "<table border=\"1\" class=\"dataframe\">\n",
       "  <thead>\n",
       "    <tr style=\"text-align: right;\">\n",
       "      <th></th>\n",
       "      <th>SALE ID</th>\n",
       "      <th>CUSTOMER</th>\n",
       "      <th>COUNTRY</th>\n",
       "      <th>PRODUCT</th>\n",
       "      <th>DAY</th>\n",
       "      <th>MONTH</th>\n",
       "      <th>YEAR</th>\n",
       "      <th>AMOUNT</th>\n",
       "      <th>PRICE</th>\n",
       "      <th>FINAL PRICE (USD)</th>\n",
       "      <th>DISCOUNT</th>\n",
       "    </tr>\n",
       "  </thead>\n",
       "  <tbody>\n",
       "    <tr>\n",
       "      <th>0</th>\n",
       "      <td>VTA001</td>\n",
       "      <td>oscar martinez</td>\n",
       "      <td>argentina</td>\n",
       "      <td>caja de carton pequeña</td>\n",
       "      <td>2</td>\n",
       "      <td>4</td>\n",
       "      <td>YEAR 1</td>\n",
       "      <td>20</td>\n",
       "      <td>120.0</td>\n",
       "      <td>2328.0</td>\n",
       "      <td>-0.03</td>\n",
       "    </tr>\n",
       "    <tr>\n",
       "      <th>1</th>\n",
       "      <td>VTA002</td>\n",
       "      <td>angela gutierrez</td>\n",
       "      <td>panama</td>\n",
       "      <td>caja de carton mediana</td>\n",
       "      <td>5</td>\n",
       "      <td>3</td>\n",
       "      <td>YEAR 1</td>\n",
       "      <td>30</td>\n",
       "      <td>190.0</td>\n",
       "      <td>5700.0</td>\n",
       "      <td>0.00</td>\n",
       "    </tr>\n",
       "    <tr>\n",
       "      <th>2</th>\n",
       "      <td>VTA003</td>\n",
       "      <td>angel campos</td>\n",
       "      <td>uruguay</td>\n",
       "      <td>caja de carton pequeña</td>\n",
       "      <td>6</td>\n",
       "      <td>8</td>\n",
       "      <td>YEAR 1</td>\n",
       "      <td>50</td>\n",
       "      <td>120.0</td>\n",
       "      <td>5700.0</td>\n",
       "      <td>-0.05</td>\n",
       "    </tr>\n",
       "    <tr>\n",
       "      <th>3</th>\n",
       "      <td>VTA004</td>\n",
       "      <td>alvaro arce</td>\n",
       "      <td>colombia</td>\n",
       "      <td>caja de carton grande</td>\n",
       "      <td>7</td>\n",
       "      <td>8</td>\n",
       "      <td>YEAR 1</td>\n",
       "      <td>10</td>\n",
       "      <td>250.0</td>\n",
       "      <td>2500.0</td>\n",
       "      <td>0.00</td>\n",
       "    </tr>\n",
       "    <tr>\n",
       "      <th>4</th>\n",
       "      <td>VTA005</td>\n",
       "      <td>yasmin marrapodi blanco</td>\n",
       "      <td>honduras</td>\n",
       "      <td>caja de carton grande</td>\n",
       "      <td>7</td>\n",
       "      <td>8</td>\n",
       "      <td>YEAR 1</td>\n",
       "      <td>15</td>\n",
       "      <td>250.0</td>\n",
       "      <td>3637.5</td>\n",
       "      <td>-0.03</td>\n",
       "    </tr>\n",
       "    <tr>\n",
       "      <th>...</th>\n",
       "      <td>...</td>\n",
       "      <td>...</td>\n",
       "      <td>...</td>\n",
       "      <td>...</td>\n",
       "      <td>...</td>\n",
       "      <td>...</td>\n",
       "      <td>...</td>\n",
       "      <td>...</td>\n",
       "      <td>...</td>\n",
       "      <td>...</td>\n",
       "      <td>...</td>\n",
       "    </tr>\n",
       "    <tr>\n",
       "      <th>92</th>\n",
       "      <td>VTA058</td>\n",
       "      <td>pablo morales</td>\n",
       "      <td>colombia</td>\n",
       "      <td>caja de carton grande</td>\n",
       "      <td>20</td>\n",
       "      <td>8</td>\n",
       "      <td>YEAR 2</td>\n",
       "      <td>50</td>\n",
       "      <td>300.0</td>\n",
       "      <td>15000.0</td>\n",
       "      <td>0.00</td>\n",
       "    </tr>\n",
       "    <tr>\n",
       "      <th>93</th>\n",
       "      <td>VTA059</td>\n",
       "      <td>daniela bonilla</td>\n",
       "      <td>honduras</td>\n",
       "      <td>caja de carton pequeña</td>\n",
       "      <td>17</td>\n",
       "      <td>8</td>\n",
       "      <td>YEAR 2</td>\n",
       "      <td>10</td>\n",
       "      <td>150.0</td>\n",
       "      <td>1500.0</td>\n",
       "      <td>0.00</td>\n",
       "    </tr>\n",
       "    <tr>\n",
       "      <th>94</th>\n",
       "      <td>VTA060</td>\n",
       "      <td>yoselin torres</td>\n",
       "      <td>puerto rico</td>\n",
       "      <td>caja de carton pequeña</td>\n",
       "      <td>11</td>\n",
       "      <td>4</td>\n",
       "      <td>YEAR 2</td>\n",
       "      <td>20</td>\n",
       "      <td>150.0</td>\n",
       "      <td>3000.0</td>\n",
       "      <td>0.00</td>\n",
       "    </tr>\n",
       "    <tr>\n",
       "      <th>95</th>\n",
       "      <td>VTA061</td>\n",
       "      <td>viviana espinoza</td>\n",
       "      <td>santo domingo</td>\n",
       "      <td>caja de carton grande</td>\n",
       "      <td>11</td>\n",
       "      <td>4</td>\n",
       "      <td>YEAR 2</td>\n",
       "      <td>30</td>\n",
       "      <td>300.0</td>\n",
       "      <td>9000.0</td>\n",
       "      <td>0.00</td>\n",
       "    </tr>\n",
       "    <tr>\n",
       "      <th>96</th>\n",
       "      <td>VTA062</td>\n",
       "      <td>viviana contreras</td>\n",
       "      <td>argentina</td>\n",
       "      <td>caja de carton pequeña</td>\n",
       "      <td>12</td>\n",
       "      <td>7</td>\n",
       "      <td>YEAR 2</td>\n",
       "      <td>50</td>\n",
       "      <td>150.0</td>\n",
       "      <td>7500.0</td>\n",
       "      <td>0.00</td>\n",
       "    </tr>\n",
       "  </tbody>\n",
       "</table>\n",
       "<p>97 rows × 11 columns</p>\n",
       "</div>"
      ],
      "text/plain": [
       "   SALE ID                 CUSTOMER        COUNTRY                 PRODUCT  \\\n",
       "0   VTA001           oscar martinez      argentina  caja de carton pequeña   \n",
       "1   VTA002         angela gutierrez         panama  caja de carton mediana   \n",
       "2   VTA003             angel campos        uruguay  caja de carton pequeña   \n",
       "3   VTA004              alvaro arce       colombia   caja de carton grande   \n",
       "4   VTA005  yasmin marrapodi blanco       honduras   caja de carton grande   \n",
       "..     ...                      ...            ...                     ...   \n",
       "92  VTA058            pablo morales       colombia   caja de carton grande   \n",
       "93  VTA059          daniela bonilla       honduras  caja de carton pequeña   \n",
       "94  VTA060           yoselin torres    puerto rico  caja de carton pequeña   \n",
       "95  VTA061         viviana espinoza  santo domingo   caja de carton grande   \n",
       "96  VTA062        viviana contreras      argentina  caja de carton pequeña   \n",
       "\n",
       "    DAY  MONTH    YEAR  AMOUNT  PRICE  FINAL PRICE (USD)  DISCOUNT  \n",
       "0     2      4  YEAR 1      20  120.0             2328.0     -0.03  \n",
       "1     5      3  YEAR 1      30  190.0             5700.0      0.00  \n",
       "2     6      8  YEAR 1      50  120.0             5700.0     -0.05  \n",
       "3     7      8  YEAR 1      10  250.0             2500.0      0.00  \n",
       "4     7      8  YEAR 1      15  250.0             3637.5     -0.03  \n",
       "..  ...    ...     ...     ...    ...                ...       ...  \n",
       "92   20      8  YEAR 2      50  300.0            15000.0      0.00  \n",
       "93   17      8  YEAR 2      10  150.0             1500.0      0.00  \n",
       "94   11      4  YEAR 2      20  150.0             3000.0      0.00  \n",
       "95   11      4  YEAR 2      30  300.0             9000.0      0.00  \n",
       "96   12      7  YEAR 2      50  150.0             7500.0      0.00  \n",
       "\n",
       "[97 rows x 11 columns]"
      ]
     },
     "execution_count": 73,
     "metadata": {},
     "output_type": "execute_result"
    }
   ],
   "source": [
    "df"
   ]
  },
  {
   "cell_type": "code",
   "execution_count": 74,
   "metadata": {},
   "outputs": [
    {
     "data": {
      "text/plain": [
       "array(['argentina', 'panama', 'uruguay', 'colombia', 'honduras',\n",
       "       'puerto rico', 'santo domingo', 'chile', 'costa rica'],\n",
       "      dtype=object)"
      ]
     },
     "execution_count": 74,
     "metadata": {},
     "output_type": "execute_result"
    }
   ],
   "source": [
    "# 1. \n",
    "df[(df['YEAR'] == 'YEAR 2') | (df['YEAR'] == 'YEAR 1')]['COUNTRY'].unique()"
   ]
  },
  {
   "cell_type": "code",
   "execution_count": 76,
   "metadata": {},
   "outputs": [
    {
     "data": {
      "text/plain": [
       "'uruguay'"
      ]
     },
     "execution_count": 76,
     "metadata": {},
     "output_type": "execute_result"
    }
   ],
   "source": [
    "# 2.\n",
    "df[(df['PRODUCT'] == 'caja de carton pequeña') & (df['MONTH'] == 8) & (df['YEAR'] == 'YEAR 1')].groupby('COUNTRY')['AMOUNT'].sum().idxmax()"
   ]
  },
  {
   "cell_type": "code",
   "execution_count": 77,
   "metadata": {},
   "outputs": [
    {
     "data": {
      "text/plain": [
       "300.0"
      ]
     },
     "execution_count": 77,
     "metadata": {},
     "output_type": "execute_result"
    }
   ],
   "source": [
    "# 3.\n",
    "df[(df['PRODUCT'].str.contains('Caja', case=False, na=False)) & (df['YEAR'] != 'YEAR 0')]['PRICE'].max()"
   ]
  },
  {
   "cell_type": "code",
   "execution_count": 40,
   "metadata": {},
   "outputs": [
    {
     "data": {
      "text/plain": [
       "'xavier aguilar'"
      ]
     },
     "execution_count": 40,
     "metadata": {},
     "output_type": "execute_result"
    }
   ],
   "source": [
    "# 4.\n",
    "df.loc[df['DISCOUNT'].idxmin(), 'CUSTOMER']"
   ]
  }
 ],
 "metadata": {
  "kernelspec": {
   "display_name": "auto",
   "language": "python",
   "name": "python3"
  },
  "language_info": {
   "codemirror_mode": {
    "name": "ipython",
    "version": 3
   },
   "file_extension": ".py",
   "mimetype": "text/x-python",
   "name": "python",
   "nbconvert_exporter": "python",
   "pygments_lexer": "ipython3",
   "version": "3.8.10"
  }
 },
 "nbformat": 4,
 "nbformat_minor": 2
}
